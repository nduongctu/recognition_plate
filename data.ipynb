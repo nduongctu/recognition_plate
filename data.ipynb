{
 "cells": [
  {
   "cell_type": "code",
   "execution_count": null,
   "id": "initial_id",
   "metadata": {
    "collapsed": true
   },
   "outputs": [],
   "source": [
    "import numpy as np\n",
    "import pandas as pd\n",
    "import matplotlib.pyplot as plt\n",
    "import os\n",
    "from PIL import Image\n",
    "import cv2"
   ]
  },
  {
   "cell_type": "code",
   "outputs": [],
   "source": [
    "path=\"../\"\n",
    "categories = ['images']"
   ],
   "metadata": {
    "collapsed": false
   },
   "id": "31bf0f745b347ef2"
  },
  {
   "cell_type": "code",
   "outputs": [],
   "source": [
    "#hien thi hinh anh\n",
    "for category in categories:\n",
    "    fig, axes = plt.subplots(3, 4, figsize=(10, 8))\n",
    "    fig.suptitle(category)\n",
    "    for k, v in enumerate(os.listdir(path + category)[:12]):\n",
    "        img_path = os.path.join(path, category, v)\n",
    "        # img = Image.open(img_path).convert('RGB')\n",
    "        # img_array = np.array(img)\n",
    "        # \n",
    "        # print(f\"Image {v} pixel values (first 5 pixels): {img_array.flatten()[:15]}\")\n",
    "        # Đọc ảnh bằng cv2\n",
    "        print(f\"Đang xử lý tệp: {img_path}\")\n",
    "        \n",
    "        # Đọc ảnh bằng Pillow\n",
    "        img = Image.open(img_path).convert('RGB')\n",
    "        img = np.array(img)\n",
    "        # img = 255 - img\n",
    "        \n",
    "        # Kiểm tra kích thước và giá trị pixel\n",
    "        print(f\"Kích thước ảnh: {img.shape}\")\n",
    "        print(f\"Giá trị pixel đầu tiên: {img[0, 0]}\")\n",
    "        \n",
    "        ax = axes[k//4, k%4]\n",
    "        ax.imshow(img)\n",
    "        ax.axis('off')\n",
    "    plt.tight_layout()\n",
    "    plt.show()"
   ],
   "metadata": {
    "collapsed": false
   },
   "id": "ff97a9b2b35b0c95"
  }
 ],
 "metadata": {
  "kernelspec": {
   "display_name": "Python 3",
   "language": "python",
   "name": "python3"
  },
  "language_info": {
   "codemirror_mode": {
    "name": "ipython",
    "version": 2
   },
   "file_extension": ".py",
   "mimetype": "text/x-python",
   "name": "python",
   "nbconvert_exporter": "python",
   "pygments_lexer": "ipython2",
   "version": "2.7.6"
  }
 },
 "nbformat": 4,
 "nbformat_minor": 5
}
